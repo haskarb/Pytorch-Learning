{
  "nbformat": 4,
  "nbformat_minor": 0,
  "metadata": {
    "colab": {
      "name": "Perceptron.ipynb",
      "version": "0.3.2",
      "provenance": []
    },
    "kernelspec": {
      "name": "python3",
      "display_name": "Python 3"
    }
  },
  "cells": [
    {
      "metadata": {
        "id": "g28mYG50UaKn",
        "colab_type": "code",
        "colab": {}
      },
      "cell_type": "code",
      "source": [
        "import torch"
      ],
      "execution_count": 0,
      "outputs": []
    },
    {
      "metadata": {
        "id": "bXt_Qu5EUeSJ",
        "colab_type": "code",
        "colab": {}
      },
      "cell_type": "code",
      "source": [
        "import matplotlib.pyplot as plt\n",
        "import numpy as np\n",
        "from sklearn import datasets\n"
      ],
      "execution_count": 0,
      "outputs": []
    },
    {
      "metadata": {
        "id": "3J6AK0nDM-Rz",
        "colab_type": "code",
        "colab": {
          "base_uri": "https://localhost:8080/",
          "height": 300
        },
        "outputId": "06387ee0-4a1b-47d1-8cc8-604e67697a7c"
      },
      "cell_type": "code",
      "source": [
        "# Creating a dummy dataset\n",
        "X = torch.randn(100,1)*10\n",
        "y= X + 3*torch.randn(100,1)\n",
        "\n",
        "plt.plot(X.numpy(), y.numpy(),'o')\n",
        "plt.xlabel('x')\n",
        "plt.ylabel('y')\n"
      ],
      "execution_count": 3,
      "outputs": [
        {
          "output_type": "execute_result",
          "data": {
            "text/plain": [
              "Text(0, 0.5, 'y')"
            ]
          },
          "metadata": {
            "tags": []
          },
          "execution_count": 3
        },
        {
          "output_type": "display_data",
          "data": {
            "image/png": "[encoded data removed]",
            "text/plain": [
              "<Figure size 432x288 with 1 Axes>"
            ]
          },
          "metadata": {
            "tags": []
          }
        }
      ]
    },
    {
      "metadata": {
        "id": "IfUc6DAeNjSf",
        "colab_type": "code",
        "colab": {}
      },
      "cell_type": "code",
      "source": [
        "class LR(torch.nn.Module):\n",
        "  def __init__(self, input_size, output_size):\n",
        "    super().__init__()\n",
        "    self.linear = torch.nn.Linear(input_size, output_size)\n",
        "    \n",
        "  def forward(self, x):\n",
        "    pred = self.linear(x)\n",
        "    return pred"
      ],
      "execution_count": 0,
      "outputs": []
    },
    {
      "metadata": {
        "id": "D0Jg6rZJOb5N",
        "colab_type": "code",
        "colab": {
          "base_uri": "https://localhost:8080/",
          "height": 68
        },
        "outputId": "e74a285b-ad15-4e4b-cfa2-acefd58af482"
      },
      "cell_type": "code",
      "source": [
        "torch.manual_seed(1)\n",
        "model = LR(1,1) # LR(inpu_dim, output_dim)\n",
        "\n",
        "\n",
        "print(model)"
      ],
      "execution_count": 5,
      "outputs": [
        {
          "output_type": "stream",
          "text": [
            "LR(\n",
            "  (linear): Linear(in_features=1, out_features=1, bias=True)\n",
            ")\n"
          ],
          "name": "stdout"
        }
      ]
    },
    {
      "metadata": {
        "id": "Sif0qS7PPoZ0",
        "colab_type": "code",
        "colab": {}
      },
      "cell_type": "code",
      "source": [
        "err = torch.nn.MSELoss()\n",
        "optimizer = torch.optim.SGD(model.parameters(), lr = 0.01)"
      ],
      "execution_count": 0,
      "outputs": []
    },
    {
      "metadata": {
        "id": "_oD2dCYhR06n",
        "colab_type": "code",
        "colab": {
          "base_uri": "https://localhost:8080/",
          "height": 1717
        },
        "outputId": "bd3ded9c-4c5f-4549-b670-b40659c37057"
      },
      "cell_type": "code",
      "source": [
        "epochs = 100\n",
        "losses = []\n",
        "\n",
        "for i in range(epochs):\n",
        "  y_pred = model.forward(X)\n",
        "  loss = err(y_pred, y)\n",
        "  \n",
        "  print(\"Epoch: {}, loss: {}\".format(i, loss.item()))\n",
        "  \n",
        "  losses.append(loss)\n",
        "  optimizer.zero_grad()\n",
        "  loss.backward()\n",
        "  optimizer.step()\n",
        "  \n",
        "  "
      ],
      "execution_count": 7,
      "outputs": [
        {
          "output_type": "stream",
          "text": [
            "Epoch: 0, loss: 31.41445541381836\n",
            "Epoch: 1, loss: 25.741558074951172\n",
            "Epoch: 2, loss: 21.694732666015625\n",
            "Epoch: 3, loss: 18.807880401611328\n",
            "Epoch: 4, loss: 16.74851417541504\n",
            "Epoch: 5, loss: 15.279434204101562\n",
            "Epoch: 6, loss: 14.23145866394043\n",
            "Epoch: 7, loss: 13.483865737915039\n",
            "Epoch: 8, loss: 12.950560569763184\n",
            "Epoch: 9, loss: 12.570119857788086\n",
            "Epoch: 10, loss: 12.298725128173828\n",
            "Epoch: 11, loss: 12.105121612548828\n",
            "Epoch: 12, loss: 11.967008590698242\n",
            "Epoch: 13, loss: 11.868483543395996\n",
            "Epoch: 14, loss: 11.798196792602539\n",
            "Epoch: 15, loss: 11.748056411743164\n",
            "Epoch: 16, loss: 11.712285041809082\n",
            "Epoch: 17, loss: 11.68676471710205\n",
            "Epoch: 18, loss: 11.668558120727539\n",
            "Epoch: 19, loss: 11.655569076538086\n",
            "Epoch: 20, loss: 11.646302223205566\n",
            "Epoch: 21, loss: 11.639689445495605\n",
            "Epoch: 22, loss: 11.634970664978027\n",
            "Epoch: 23, loss: 11.631603240966797\n",
            "Epoch: 24, loss: 11.629199028015137\n",
            "Epoch: 25, loss: 11.627483367919922\n",
            "Epoch: 26, loss: 11.62625789642334\n",
            "Epoch: 27, loss: 11.625381469726562\n",
            "Epoch: 28, loss: 11.624755859375\n",
            "Epoch: 29, loss: 11.624308586120605\n",
            "Epoch: 30, loss: 11.62398910522461\n",
            "Epoch: 31, loss: 11.623759269714355\n",
            "Epoch: 32, loss: 11.623594284057617\n",
            "Epoch: 33, loss: 11.623476028442383\n",
            "Epoch: 34, loss: 11.623390197753906\n",
            "Epoch: 35, loss: 11.623329162597656\n",
            "Epoch: 36, loss: 11.623283386230469\n",
            "Epoch: 37, loss: 11.623250961303711\n",
            "Epoch: 38, loss: 11.623226165771484\n",
            "Epoch: 39, loss: 11.623208045959473\n",
            "Epoch: 40, loss: 11.623194694519043\n",
            "Epoch: 41, loss: 11.623184204101562\n",
            "Epoch: 42, loss: 11.623176574707031\n",
            "Epoch: 43, loss: 11.623169898986816\n",
            "Epoch: 44, loss: 11.623164176940918\n",
            "Epoch: 45, loss: 11.623160362243652\n",
            "Epoch: 46, loss: 11.623156547546387\n",
            "Epoch: 47, loss: 11.623153686523438\n",
            "Epoch: 48, loss: 11.623150825500488\n",
            "Epoch: 49, loss: 11.623147964477539\n",
            "Epoch: 50, loss: 11.623146057128906\n",
            "Epoch: 51, loss: 11.623144149780273\n",
            "Epoch: 52, loss: 11.62314224243164\n",
            "Epoch: 53, loss: 11.623140335083008\n",
            "Epoch: 54, loss: 11.623138427734375\n",
            "Epoch: 55, loss: 11.623137474060059\n",
            "Epoch: 56, loss: 11.623135566711426\n",
            "Epoch: 57, loss: 11.623133659362793\n",
            "Epoch: 58, loss: 11.623132705688477\n",
            "Epoch: 59, loss: 11.623130798339844\n",
            "Epoch: 60, loss: 11.623129844665527\n",
            "Epoch: 61, loss: 11.623128890991211\n",
            "Epoch: 62, loss: 11.623126983642578\n",
            "Epoch: 63, loss: 11.623126029968262\n",
            "Epoch: 64, loss: 11.623125076293945\n",
            "Epoch: 65, loss: 11.623124122619629\n",
            "Epoch: 66, loss: 11.623123168945312\n",
            "Epoch: 67, loss: 11.623122215270996\n",
            "Epoch: 68, loss: 11.62312126159668\n",
            "Epoch: 69, loss: 11.623120307922363\n",
            "Epoch: 70, loss: 11.623119354248047\n",
            "Epoch: 71, loss: 11.623119354248047\n",
            "Epoch: 72, loss: 11.62311840057373\n",
            "Epoch: 73, loss: 11.623117446899414\n",
            "Epoch: 74, loss: 11.623116493225098\n",
            "Epoch: 75, loss: 11.623115539550781\n",
            "Epoch: 76, loss: 11.623115539550781\n",
            "Epoch: 77, loss: 11.623114585876465\n",
            "Epoch: 78, loss: 11.623113632202148\n",
            "Epoch: 79, loss: 11.623113632202148\n",
            "Epoch: 80, loss: 11.623112678527832\n",
            "Epoch: 81, loss: 11.623111724853516\n",
            "Epoch: 82, loss: 11.623111724853516\n",
            "Epoch: 83, loss: 11.623111724853516\n",
            "Epoch: 84, loss: 11.6231107711792\n",
            "Epoch: 85, loss: 11.6231107711792\n",
            "Epoch: 86, loss: 11.623109817504883\n",
            "Epoch: 87, loss: 11.623108863830566\n",
            "Epoch: 88, loss: 11.623108863830566\n",
            "Epoch: 89, loss: 11.623108863830566\n",
            "Epoch: 90, loss: 11.623108863830566\n",
            "Epoch: 91, loss: 11.62310791015625\n",
            "Epoch: 92, loss: 11.62310791015625\n",
            "Epoch: 93, loss: 11.623106956481934\n",
            "Epoch: 94, loss: 11.623106956481934\n",
            "Epoch: 95, loss: 11.623106956481934\n",
            "Epoch: 96, loss: 11.623106002807617\n",
            "Epoch: 97, loss: 11.623106002807617\n",
            "Epoch: 98, loss: 11.623106002807617\n",
            "Epoch: 99, loss: 11.6231050491333\n"
          ],
          "name": "stdout"
        }
      ]
    },
    {
      "metadata": {
        "id": "-mspk2tQSjDN",
        "colab_type": "code",
        "colab": {
          "base_uri": "https://localhost:8080/",
          "height": 300
        },
        "outputId": "aaa028ad-bc78-41e6-b728-c10971ee389a"
      },
      "cell_type": "code",
      "source": [
        "plt.plot(range(epochs), losses)\n",
        "plt.xlabel('Epochs')\n",
        "plt.ylabel('Loss')"
      ],
      "execution_count": 8,
      "outputs": [
        {
          "output_type": "execute_result",
          "data": {
            "text/plain": [
              "Text(0, 0.5, 'Loss')"
            ]
          },
          "metadata": {
            "tags": []
          },
          "execution_count": 8
        },
        {
          "output_type": "display_data",
          "data": {
            "image/png": "[encoded data removed]",
            "text/plain": [
              "<Figure size 432x288 with 1 Axes>"
            ]
          },
          "metadata": {
            "tags": []
          }
        }
      ]
    },
    {
      "metadata": {
        "id": "YaN3cotMTGD2",
        "colab_type": "code",
        "colab": {}
      },
      "cell_type": "code",
      "source": [
        ""
      ],
      "execution_count": 0,
      "outputs": []
    }
  ]
}